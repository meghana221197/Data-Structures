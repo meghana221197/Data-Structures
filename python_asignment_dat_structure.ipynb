{
 "cells": [
  {
   "cell_type": "raw",
   "id": "aaea1cb2-c6aa-46e6-850a-7d52fbe37795",
   "metadata": {},
   "source": [
    "\"\"\"\n",
    "1) What are data structures, and why are they important?\n",
    "\n",
    "Data structures are specialized formats used for organizing, managing, and storing data in a way that enables efficient access and modification. \n",
    "In computer science,they are essential for optimizing various operations such as searching, inserting, deleting, and sorting data.\n",
    "Data Structures Important in Python,because,,,\n",
    "Efficiency: The correct choice of data structure can improve the performance of your code. \n",
    "            For instance, dictionaries allow for fast O(1) lookups, while lists are efficient for indexed access and appending.\n",
    "Flexibility: Python’s built-in data structures are flexible and easy to use, offering high-level abstractions for \n",
    "                solving complex problems without worrying about memory management.\n",
    "Ease of Implementation: Python’s built-in structures, like list, set, tuple, and dict, make it easy to implement algorithms quickly without\n",
    "                            needing low-level data structure implementations.\n",
    "Optimal Algorithms: Understanding how to use data structures effectively can help in selecting or designing the most appropriate algorithms,\n",
    "                        leading to better performance and scalability.\n",
    "Memory Management: Efficient data structures help you make better use of memory, ensuring your application can scale with larger datasets without unnecessary overhead.\n",
    "In summary, Python offers various built-in data structures that make it easier for developers to store and manipulate data efficiently, \n",
    "                            leading to more effective algorithms and optimized programs.\n",
    "\n",
    "\"\"\"                            "
   ]
  },
  {
   "cell_type": "raw",
   "id": "39476e09-2390-4a8a-a16f-ca140884791a",
   "metadata": {},
   "source": [
    "\"\"\"\n",
    "2) Explain the difference between mutable and immutable data types with examples\n",
    "\n",
    "1. Mutable Data Types\n",
    "\n",
    "Mutable data types are objects whose contents can be changed after they are created. When you modify a mutable object, \n",
    "the object itself is changed, and the changes will be reflected wherever the object is referenced.\n",
    "\n",
    "Examples of Mutable Data Types:\n",
    "        Lists\n",
    "        Dictionaries\n",
    "        Sets\n",
    "        Bytearrays\n",
    "Example: Mutable Data Type (List)\n",
    "        # Mutable data type: List\n",
    "        my_list = [1, 2, 3]\n",
    "        my_list[0] = 10  # Modify the first element\n",
    "        print(my_list)  # Output: [10, 2, 3]\n",
    "In this example, we modified the first element of my_list, which is allowed because lists are mutable.\n",
    "\n",
    "2. Immutable Data Types\n",
    "Immutable data types are objects whose contents cannot be changed once they are created.\n",
    "If you try to modify an immutable object, Python will create a new object with the modified content, leaving the original object unchanged.\n",
    "\n",
    "        Examples of Immutable Data Types:\n",
    "        Integers\n",
    "        Floats\n",
    "        Strings\n",
    "        Tuples\n",
    "        Frozensets\n",
    "\n",
    "Example: Immutable Data Type (String)\n",
    "\n",
    "# Immutable data type: String\n",
    "        my_string = \"hello\"\n",
    "        my_string = my_string.upper()  # Create a new string with uppercase letters\n",
    "        print(my_string)   # Output: \"HELLO\"\n",
    "In this example, calling the upper() method on the string creates a new string (\"HELLO\"),\n",
    "and the original string (\"hello\") remains unchanged because strings are immutable.\n",
    "\n",
    "Characteristic\t                   Mutable\t                                                                  Immutable\n",
    "Can be modified\t             Yes, contents can be changed\t                                      No, contents cannot be changed\n",
    "Examples\t                List, Set, Dictionary, Bytearray\t                                 Integer, Float, String, Tuple\n",
    "Memory Efficiency\t   Less efficient in terms of memory when changed frequently,                 More efficient, as modifications create new objects\n",
    "                            as objects can be modified in place.\t.\n",
    "Behavior with Assignment\tChanges are reflected across all references to the object.\t     A new object is created when modified,\n",
    "                                                                                                leaving the original unchanged.\n",
    "Methods              \t   Have methods that modify the object in place                          Methods that return new objects (e.g., .upper(),\n",
    "                                (e.g., .append(), .remove()).\t                                   .replace() for    strings).\n",
    "\n",
    "\n",
    "\"\"\"                                "
   ]
  },
  {
   "cell_type": "raw",
   "id": "c872608b-22eb-4994-8b55-3fbc85267143",
   "metadata": {},
   "source": [
    "\"\"\"\n",
    "3) What are the main differences between lists and tuples in Python?\n",
    "In Python, lists and tuples are both data structures used to store collections of items,\n",
    "but they have important differences in terms of mutability, performance, and use cases.\n",
    "Main Differences Between Lists and Tuples in Python\n",
    "Characteristic                                       \tList\t                                                 Tuple\n",
    "Mutability           \tMutable (can be modified after creation)\t                                    Immutable (cannot be modified after creation)\n",
    "Syntax\t                  Defined using square brackets ([])                                         \tDefined using parentheses (())\n",
    "Performance\t              Slightly slower for iteration and access due to being mutable             \tFaster for iteration and access due to being immutable\n",
    "Methods\t                 Supports many methods like .append(), .remove(), .pop(), etc.              \tSupports fewer methods (e.g., .count(), .index())\n",
    "Use Cases\t             Used when the data collection may need to change (e.g., adding/removing elements).\tUsed when the data should remain constant and not change.\n",
    "Memory Usage\t          Takes more memory because of its mutability\t                                  More memory efficient due to its immutability\n",
    "Immutability and Safety    Can cause side effects when modified (especially when shared)\t            Safer to use in multithreaded environments since it's immutable\n",
    "\"\"\""
   ]
  },
  {
   "cell_type": "raw",
   "id": "d7387ca4-27bb-48ac-95f4-350e7ca14e08",
   "metadata": {},
   "source": [
    "\"\"\"\n",
    "4) Describe how dictionaries store data.\n",
    "\n",
    "In Python, a dictionary is an unordered collection of data that stores data in key-value pairs. \n",
    "It is one of the most commonly used data structures for organizing data and allows for fast lookups, inserts, and\n",
    "modifications based on unique keys.\n",
    "How Dictionaries Store Data in Python\n",
    "1) Key-Value Pairs: A dictionary is a collection of key-value pairs. Each key is unique within the dictionary, \n",
    "                    and each key is associated with a specific value.The value can be of any data type, such as a string, number, list, or \n",
    "                    even another dictionary\n",
    "                    y_dict = {'name': 'Alice', 'age': 25, 'city': 'New York'}\n",
    "                    'name', 'age', and 'city' are keys.\n",
    "                    'Alice', 25, and 'New York' are the associated values.\n",
    "2) Key Uniqueness:\n",
    "Each key in a dictionary must be unique. If you try to insert a duplicate key, the previous key-value pair will be overwritten by the new one.  \n",
    "                my_dict = {'name': 'Alice', 'age': 25}\n",
    "                my_dict['age'] = 26  # Updates the value of 'age'\n",
    "                print(my_dict)  # Output: {'name': 'Alice', 'age': 26}\n",
    "                In this case, the value associated with the 'age' key is updated from 25 to 26.\n",
    "                \n",
    "3)Hashing and Fast Lookup: Internally, dictionaries use a hash table to store and manage data.\n",
    "        When a key is added to the dictionary, Python calculates a hash value for the key. \n",
    "        This hash value is used to determine where to store the key-value pair in memory, making lookups extremely fast.\n",
    "         The key is hashed into a unique index in the dictionary.\n",
    "        This allows Python to quickly locate the value associated with a given key,\n",
    "        providing O(1) average time complexity for accessing, adding, or deleting elements by key.\n",
    "\n",
    "4)Unordered (pre-Python 3.7): Python 3.7+ maintains the insertion order, but dictionaries are still conceptually unordered for hashing purposes.\n",
    "    Dictionaries are one of the most versatile and efficient data structures in Python, ideal for situations where \n",
    "    fast access to data using a unique key is required. Dictionaries are mutable, meaning you can add, modify, or remove key-value pairs.\n",
    "    Starting from Python 3.7, dictionaries preserve the insertion order.\n",
    "\n",
    "\"\"\""
   ]
  },
  {
   "cell_type": "raw",
   "id": "6749c1f4-19aa-4dc7-bb33-a95d31a5b44f",
   "metadata": {},
   "source": [
    "\"\"\"\n",
    "5)Why might you use a set instead of a list in Python?\n",
    "\n",
    "When to Use a Set:\n",
    "    When you need unique elements.A list can contain duplicate elements, \n",
    "    When you need to perform set operations (e.g., union, intersection).ets support mathematical set operations such as union, intersection, difference,\n",
    "    and symmetric difference, which are not directly available with lists.\n",
    "    When fast membership testing is required.Sets provide O(1) average time complexity for membership tests (checking if an element exists), \n",
    "    making them much faster than lists, which have O(n) time complexity.\n",
    "When to Use a List:\n",
    "    When you need to maintain order or allow duplicate elements.\n",
    "    \"\"\""
   ]
  },
  {
   "cell_type": "raw",
   "id": "ea2de8b6-7000-4291-8de7-d44eace8f292",
   "metadata": {},
   "source": [
    "\"\"\" \n",
    "6) What is a string in Python, and how is it different from a list.\n",
    "\n",
    "In Python, a string is a sequence of characters enclosed in single quotes (') or double quotes (\"), used to represent text. \n",
    "Strings are immutable, meaning their contents cannot be changed after they are created.\n",
    "\n",
    "Difference Between a String and a List in Python\n",
    "Characteristic                                          \tString\t                                        List\n",
    "Definition\t              A sequence of characters (text).\t                                       A collection of items, which can be of different data types.\n",
    "Mutability\t           Immutable (cannot be modified).\t                                          Mutable (can be changed, items can be added, removed, or modified).\n",
    "Data Type of Elements\tElements are always characters.                                          \tElements can be of any data type (int, string, list, etc.).\n",
    "Syntax\t               Defined using single or double quotes: 'hello', \"world\".                 \tDefined using square brackets: [1, 2, 3], ['apple', 1, True].\n",
    "Operations              \tSupports string-specific methods like .upper(), .lower(), .replace().\tSupports list-specific methods like .append(), .remove(), .pop().\n",
    "Indexing and Slicing\tCan be indexed and sliced like a list, but cannot be modified (immutable).\tCan be indexed, sliced, and modified.\n",
    "Use Case\t            Used to store and manipulate text.                                       \tUsed to store and manipulate collections of items.\n",
    "Examples:\n",
    "String Example:\n",
    "\n",
    "my_string = \"Hello\"\n",
    "# Strings are immutable, so you can't modify them directly\n",
    "# Example of string operation\n",
    "new_string = my_string.upper()  # Returns a new string\n",
    "print(new_string)  # Output: \"HELLO\"\n",
    "\n",
    "my_list = [1, 2, 3]\n",
    "# Lists are mutable, so we can modify them\n",
    "my_list[0] = 10  # Modify the first element\n",
    "my_list.append(4)  # Add a new element\n",
    "print(my_list)  # Output: [10, 2, 3, 4]\n",
    "Summary:\n",
    "String: A sequence of characters, immutable, used for text manipulation.\n",
    "List: A collection of elements (can be of different data types), mutable, used for general-purpose data storage.\n",
    "\n",
    "Key Differences:\n",
    "\n",
    "Strings: Immutable, only store characters, used for text.\n",
    "Lists: Mutable, store items of any data type, used for general collections.\n",
    "\n",
    "\"\"\"\n",
    "\n"
   ]
  },
  {
   "cell_type": "raw",
   "id": "b10758a9-4479-4428-b8f7-c4d8e1e6b38b",
   "metadata": {},
   "source": [
    "\"\"\"\n",
    "7) How do tuples ensure data integrity in Python.\n",
    "\n",
    "In Python, tuples ensure data integrity by being immutable. This means once a tuple is created,\n",
    "its contents cannot be modified. This immutability guarantees that the data stored in a tuple remains constant and unaltered throughout the program.\n",
    "\n",
    "How Tuples Ensure Data Integrity:\n",
    "Immutability: Since tuples cannot be changed (no adding, removing, or modifying elements), \n",
    "                the data they contain is protected from accidental modifications.\n",
    "Safe in Multithreaded Environments: The immutability of tuples makes them safer to use in multithreaded applications \n",
    "                        because there is no risk of one thread changing the data while another thread is accessing it.\n",
    "Hashable: Tuples are hashable (provided their elements are also hashable), meaning they can be used as keys in dictionaries or added to sets, \n",
    "            ensuring their data remains consistent when used in these contexts.\n",
    "\n",
    "Example:\n",
    "\n",
    "my_tuple = (1, 2, 3)\n",
    "# Trying to modify an element in a tuple will raise an error\n",
    "# my_tuple[0] = 10  # This will raise a TypeError\n",
    "\n",
    "In summary:\n",
    "Tuples ensure data integrity by being immutable, preventing any changes to the stored data once the tuple is created.\n",
    "This makes them ideal for representing fixed, unchangeable data.\n",
    "\"\"\""
   ]
  },
  {
   "cell_type": "raw",
   "id": "c81d1094-6ffe-4e20-ba4e-16923088c240",
   "metadata": {},
   "source": [
    "\"\"\"\n",
    "8) What is a hash table, and how does it relate to dictionaries in Python ?\n",
    "A hash table is a data structure used to store key-value pairs, allowing for fast retrieval, insertion, and deletion of data. \n",
    "It works by using a hash function to map keys to specific locations (or \"buckets\") in the table, which enables constant time complexity (O(1))\n",
    "for most operations like searching for a key,adding a key-value pair, or removing a key-value pair.\n",
    "How Hash Tables Work:\n",
    "Hash Function: When a key is inserted into the hash table, a hash function converts the key into an index (a hash code) that \n",
    "            corresponds to a specific location in the table.\n",
    "Buckets: Each index (or \"bucket\") in the hash table stores the value associated with the key.\n",
    "Collisions: If two keys hash to the same index, a collision occurs. Python handles collisions using techniques like \n",
    "                chaining (where each bucket stores a list of keys) or open addressing.\n",
    "\n",
    "How Hash Tables Relate to Dictionaries in Python:\n",
    "In Python, dictionaries are implemented using hash tables. When you create a dictionary, \n",
    "Python uses a hash table to store the key-value pairs. The key is hashed to determine where to store the corresponding value in memory, \n",
    "allowing for fast access and modification.\n",
    "\n",
    "Keys in a dictionary are hashed.\n",
    "Values are stored in the corresponding location determined by the hash of the key.\n",
    "\n",
    "Summary:\n",
    "A hash table is a data structure that stores key-value pairs using a hash function to map keys to specific memory locations.\n",
    "In Python, dictionaries are implemented using hash tables, allowing for efficient access and modification of key-value pairs.\n",
    "\"\"\""
   ]
  },
  {
   "cell_type": "raw",
   "id": "12e61529-dfad-452d-9442-605b3a1089e0",
   "metadata": {},
   "source": [
    "\"\"\"\n",
    "9) Can lists contain different data types in Python?\n",
    "Yes, lists in Python can contain different data types. A list is a versatile data structure that can store elements of any data type,\n",
    "including integers, strings, floats,and even other lists or objects.\n",
    "my_list = [1, \"hello\", 3.14, True, [1, 2, 3]]\n",
    "\"\"\""
   ]
  },
  {
   "cell_type": "raw",
   "id": "9d5be7e4-526f-4005-84cc-259dd7ea7cf6",
   "metadata": {},
   "source": [
    "\"\"\"\n",
    "10) Explain why strings are immutable in Python.\n",
    "\n",
    "    In Python, strings are immutable because their contents cannot be changed once they are created. \n",
    "This design decision has several important benefits and reasons behind it:\n",
    "\n",
    "1. Performance Optimization:\n",
    "Memory Efficiency: Immutable objects are often more memory efficient because Python can reuse existing string objects \n",
    "                when the same string is encountered, reducing memory usage.\n",
    "                Caching: Python uses a technique called interning, where identical string literals are stored in a single memory location.\n",
    "                This would not be possible if strings were mutable.\n",
    "2. Thread Safety:\n",
    "        Immutable objects, such as strings, are inherently thread-safe because their state cannot be changed. \n",
    "        This eliminates the risk of one thread modifying the string while another thread is reading it,\n",
    "        which could lead to inconsistencies or errors in multithreaded programs.\n",
    "3. Consistency and Predictability:\n",
    "        When strings are immutable, you can rely on the fact that their value will remain unchanged throughout the program.\n",
    "        This makes them more predictable and reduces the risk of accidental modification or bugs.\n",
    "4. Simplicity:\n",
    "        Immutable types are simpler to implement and use in various data structures (e.g., as keys in dictionaries or elements in sets),\n",
    "        as they cannot be changed after creation, ensuring consistency.\n",
    "Example of Immutability:\n",
    "\n",
    "my_string = \"hello\"\n",
    "# Attempting to modify a string directly will raise an error\n",
    "# my_string[0] = 'H'  # This will raise a TypeError\n",
    "\n",
    "# Instead, we create a new string\n",
    "new_string = \"H\" + my_string[1:]  # \"Hello\" becomes \"Hello\"\n",
    "\n",
    "Summary:\n",
    "Strings are immutable in Python to ensure memory efficiency, thread safety, predictable behavior, and simplicity in their implementation and use.\n",
    "\n",
    "\n",
    "\"\"\""
   ]
  },
  {
   "cell_type": "raw",
   "id": "96b89df6-3d3f-4be4-a522-1c2a01253858",
   "metadata": {},
   "source": [
    "\"\"\"\n",
    "11) What advantages do dictionaries offer over lists for certain tasks.\n",
    "                                                    \n",
    "Dictionaries offer several advantages over lists for certain tasks, particularly when you need to map unique keys to values and perform fast lookups, \n",
    "additions, or deletions.\n",
    "\n",
    "Advantages of Dictionaries Over Lists:\n",
    "Fast Lookups (O(1) Time Complexity):\n",
    "\n",
    "Dictionaries allow for constant time lookups (O(1)) by key, meaning you can access the value associated with a key in almost the same time,\n",
    "                  regardless of the size of the dictionary.\n",
    "Lists, on the other hand, require linear time (O(n)) to find an item when searching by value.\n",
    "                  \n",
    "Example:\n",
    "\n",
    "\n",
    "my_dict = {'name': 'Alice', 'age': 25}\n",
    "print(my_dict['name'])  # O(1) time complexity for lookup\n",
    "\n",
    "my_list = ['Alice', 'Bob', 'Charlie']\n",
    "print(my_list.index('Bob'))  # O(n) time complexity for lookup\n",
    "\n",
    "Unique Keys for Efficient Identification:\n",
    "        \n",
    "        Dictionaries store data in key-value pairs, where keys must be unique. This allows you to quickly identify and associate values with specific keys.\n",
    "        Lists store items by index and do not inherently support associating data with unique identifiers (keys).\n",
    "\n",
    "        Example:\n",
    "        my_dict = {'apple': 1, 'banana': 2}\n",
    "        print(my_dict['apple'])  # Access value directly using key\n",
    "\n",
    "Flexible Data Structure:\n",
    "    \n",
    "    Dictionaries allow for arbitrary key-value associations, where keys can be of any immutable type (like strings, numbers, or tuples),\n",
    "                      and values can be any type, including lists, dictionaries, or custom objects.\n",
    "    Lists only store ordered elements, making them less flexible for tasks that require associations between distinct pieces of data.\n",
    "                                                                \n",
    "Efficient Deletion:\n",
    "\n",
    "        Dictionaries allow for fast key-based deletion (O(1) time complexity).\n",
    "        Lists require O(n) time complexity for deleting an element, since it may need to shift elements to fill the gap.\n",
    "                               \n",
    "        Example:\n",
    "        del my_dict['banana']  # O(1) time complexity for deletion\n",
    "                                                                \n",
    "Handling Missing Data:\n",
    "        Dictionaries can handle missing keys gracefully using methods like .get(), which returns a default value if the key does not exist, \n",
    "                                        while lists require additional checks to avoid index errors.\n",
    "        Example:\n",
    "        print(my_dict.get('orange', 'Not Found'))  # Returns 'Not Found' if key doesn't exist\n",
    "                                                                \n",
    "Summary:\n",
    "                                                                \n",
    "Dictionaries provide fast lookups, unique key-value pair mapping, and flexibility that make them ideal for tasks involving searching, associating data,\n",
    "        and handling unique keys.\n",
    "Lists are better suited for ordered collections and tasks where the order of items matters, but dictionaries excel in cases requiring efficient access\n",
    "                       by key.\n",
    "\n",
    "\n",
    "\n",
    "\"\"\""
   ]
  },
  {
   "cell_type": "raw",
   "id": "72e79e01-5874-462c-b1b5-0300edd21d09",
   "metadata": {},
   "source": [
    "\"\"\"\n",
    "12) Describe a scenario where using a tuple would be preferable over a listE\n",
    "A tuple would be preferable over a list in scenarios where:\n",
    "\n",
    "The data should not be modified: Since tuples are immutable, they ensure that the data cannot be accidentally changed, \n",
    "                                    providing greater integrity and consistency.\n",
    "Performance is critical: Tuples are generally faster and more memory-efficient than lists due to their immutability,\n",
    "                                  which can be beneficial when working with large datasets or in performance-sensitive applications.\n",
    "Data integrity and hashability are required: Tuples can be used as keys in dictionaries or added to sets because they are hashable\n",
    "                                (if their elements are hashable). Lists cannot be used in this way because they are mutable.\n",
    "\n",
    "                                      Scenario: Storing Coordinates of a Point\n",
    "Suppose you're working with geographical coordinates (latitude and longitude) that should not change after being defined.\n",
    "\n",
    "In this case, a tuple is a better choice because:\n",
    "\n",
    "The coordinates are fixed and shouldn't be altered.\n",
    "Using a tuple ensures the integrity of the data.\n",
    "You may need to use these coordinates as keys in a dictionary for fast lookup, which would require them to be hashable.\n",
    "\n",
    "# Using a tuple to store a fixed geographical coordinate (latitude, longitude)\n",
    "coordinates = (40.7128, -74.0060)  # Tuple to store latitude and longitude\n",
    "\n",
    "# Trying to modify the coordinate would raise an error (immutable)\n",
    "# coordinates[0] = 41.0  # This would raise a TypeError\n",
    "\n",
    "# Using tuple as a key in a dictionary (hashable)\n",
    "location_dict = {coordinates: \"New York City\"}\n",
    "print(location_dict[coordinates])  # Output: New York City\n",
    "\n",
    "A tuple is preferable when the data is constant, immutable, needs to be used as a key in a dictionary, \n",
    "or when performance and memory efficiency are important.\n",
    "\"\"\""
   ]
  },
  {
   "cell_type": "raw",
   "id": "23df388b-3dfb-414f-bd52-80a61b57e274",
   "metadata": {},
   "source": [
    "\"\"\"\n",
    "13)How do sets handle duplicate values in Python.\n",
    "In Python, sets automatically remove duplicate values. A set only stores unique elements, meaning any duplicate values added to a set are discarded.\n",
    "\n",
    "How Sets Handle Duplicates:\n",
    "When you try to add an element that already exists in the set, it will not be added again.\n",
    "This behavior ensures that a set only contains distinct values.\n",
    "my_set = {1, 2, 3, 4}\n",
    "my_set.add(2)  # Adding a duplicate value\n",
    "print(my_set)  # Output: {1, 2, 3, 4} (No duplicates allowed)\n",
    "\"\"\""
   ]
  },
  {
   "cell_type": "raw",
   "id": "bf9416c0-c8b7-42e6-8c00-11abbf60c81c",
   "metadata": {},
   "source": [
    "\"\"\"\n",
    "14) How does the “in” keyword work differently for lists and dictionaries.\n",
    "\n",
    "1. In Lists:\n",
    "        The in keyword checks if a value is present in the list.\n",
    "        It performs a linear search (O(n) time complexity), checking each element in the list until it finds a match\n",
    "2. In Dictionaries:\n",
    "        The in keyword checks if a key is present in the dictionary.\n",
    "        It performs a fast hash lookup (O(1) average time complexity), which is much faster than checking values in a list.\n",
    "\n",
    "Summary:\n",
    "For lists, in checks if a value is present.\n",
    "For dictionaries, in checks if a key is present, not the value.\n",
    "\"\"\""
   ]
  },
  {
   "cell_type": "raw",
   "id": "66c4f922-44e9-470d-b12f-e559556ed6ec",
   "metadata": {},
   "source": [
    "\"\"\"\n",
    "15)Can you modify the elements of a tuple? Explain why or why not.\n",
    "No, you cannot modify the elements of a tuple in Python. This is because tuples are immutable, meaning their contents cannot be changed after they are created.\n",
    "\n",
    "Why Can't You Modify Tuple Elements?\n",
    "Immutability: Once a tuple is created, its elements are fixed. You cannot change, add, or remove elements directly from a tuple.\n",
    "Data Integrity: Immutability ensures that the data stored in a tuple remains consistent and cannot be accidentally altered during program execution. \n",
    "                This is useful when you want to ensure that the data remains constant.\n",
    "Hashability: Tuples are hashable (if their elements are hashable), which means they can be used as keys in dictionaries or added to sets.\n",
    "                If you could modify the elements of a tuple, it would change its hash value and cause inconsistencies in these data structures.\n",
    "\n",
    "Example:\n",
    "\n",
    "my_tuple = (1, 2, 3)\n",
    "# Attempting to modify a tuple will raise an error\n",
    "# my_tuple[0] = 10  # This will raise a TypeError\n",
    "\n",
    "Can You Modify Nested Elements?\n",
    "You can modify the elements inside a mutable object nested within a tuple (such as a list), because only the tuple itself is immutable, \n",
    "                not the objects it contains.\n",
    "\n",
    "\n",
    "my_tuple = (1, 2, [3, 4])\n",
    "my_tuple[2][0] = 10  # Modify the list inside the tuple\n",
    "print(my_tuple)  # Output: (1, 2, [10, 4])\n",
    "Summary:\n",
    "Tuples are immutable, meaning you cannot modify their elements. This ensures data integrity and hashability,\n",
    "        but allows modification of mutable objects (like lists) nested within them.\n",
    "\n",
    "\"\"\"\n"
   ]
  },
  {
   "cell_type": "raw",
   "id": "ee66239c-7a4b-4246-a19e-113909141bc2",
   "metadata": {},
   "source": [
    "\"\"\"\n",
    "16) What is a nested dictionary, and give an example of its use case.\n",
    "A nested dictionary in Python is a dictionary where the values themselves are dictionaries.\n",
    "This allows you to represent hierarchical or complex data structures, such as storing information in a multi-level or nested format.\n",
    "\n",
    "Structure of a Nested Dictionary:\n",
    "In a nested dictionary, each key can have a dictionary as its corresponding value, and that inner dictionary can have its own keys and values.\n",
    "\n",
    "    \n",
    "\n",
    "# Use case: Student Database\n",
    "student_data = {\n",
    "    '101': {'name': 'Alice', 'age': 21, 'courses': {'Math': 'A', 'Science': 'B'}},\n",
    "    '102': {'name': 'Bob', 'age': 22, 'courses': {'History': 'B+', 'Math': 'A-'}},\n",
    "    '103': {'name': 'Charlie', 'age': 20, 'courses': {'English': 'A', 'Art': 'B'}}\n",
    "}\n",
    "\n",
    "# Accessing specific student data\n",
    "print(student_data['101']['name'])  # Output: Alice\n",
    "print(student_data['102']['courses']['Math'])  # Output: A-\n",
    "\n",
    "A nested dictionary is a dictionary where the values are dictionaries themselves, providing a way to store complex, hierarchical data.\n",
    "\"\"\"\n"
   ]
  },
  {
   "cell_type": "raw",
   "id": "71aefe81-5749-48e2-bc5a-d8f7a8bfc0a5",
   "metadata": {},
   "source": [
    "\"\"\"\n",
    "17) Describe the time complexity of accessing elements in a dictionary.\n",
    "\n",
    "In Python, the time complexity of accessing elements in a dictionary is O(1) on average. \n",
    "This means that retrieving the value associated with a key in a dictionary can be done in constant time, regardless of the size of the dictionary.\n",
    "\n",
    "How It Works:\n",
    "Dictionaries in Python are implemented using hash tables, which allow for efficient key-based lookups.\n",
    "When you access a key in a dictionary, Python uses a hash function to compute the hash value of the key and determine its position in memory.\n",
    "                This allows for fast retrieval of the corresponding value.\n",
    "                           \n",
    "Average Case (O(1)):\n",
    "In most cases, dictionary access happens in constant time, i.e., it takes the same amount of time to access any key, regardless of the dictionary's size.\n",
    "\n",
    "Example:\n",
    "my_dict = {'a': 1, 'b': 2, 'c': 3}\n",
    "value = my_dict['b']  # O(1) average time complexity for lookup\n",
    "print(value)  # Output: 2\n",
    "\n",
    "Worst Case (O(n)):\n",
    "In rare cases, when there are hash collisions (multiple keys that hash to the same index),\n",
    "Python may have to look through multiple keys to find the correct one, leading to O(n) time complexity.\n",
    "However, Python uses techniques like open addressing or chaining to minimize the likelihood of collisions and keep the average lookup time at O(1).\n",
    "\n",
    "Summary:\n",
    "Average case: O(1) — constant time complexity for accessing elements.\n",
    "Worst case: O(n) — in case of many hash collisions, although this is rare and typically mitigated by Python’s hashing mechanism.\n",
    "Overall, dictionary access is very fast and one of the main advantages of using dictionaries in Python.\n",
    "\"\"\"\n"
   ]
  },
  {
   "cell_type": "raw",
   "id": "889e7250-2cdb-4fd6-96ba-51c067fb7648",
   "metadata": {},
   "source": [
    "\"\"\"\n",
    "18) In what situations are lists preferred over dictionaries.\n",
    "\n",
    "In Python, **lists** are preferred over **dictionaries** in situations where:\n",
    "\n",
    "### 1. **Order Matters**:\n",
    "   - **Lists** maintain the **order** of elements, meaning the order in which elements are added is preserved.\n",
    "   - If you need to access elements by **position** or **index**, lists are the better choice.\n",
    "\n",
    "   **Example**:\n",
    "   ```python\n",
    "   my_list = [10, 20, 30]\n",
    "   print(my_list[1])  # Output: 20 (accessing by index)\n",
    "   ```\n",
    "\n",
    "### 2. **When You Need to Store Duplicate Values**:\n",
    "   - **Lists** allow duplicate values, while **dictionaries** store only unique keys.\n",
    "   - If you need to keep multiple occurrences of the same value, lists are more appropriate.\n",
    "\n",
    "   **Example**:\n",
    "   ```python\n",
    "   my_list = [1, 2, 2, 3, 4]\n",
    "   print(my_list)  # Output: [1, 2, 2, 3, 4] (duplicates are allowed)\n",
    "   ```\n",
    "\n",
    "### 3. **When You Need to Perform Sequential Operations**:\n",
    "   - If you need to iterate over all the elements in a specific order or need to append/remove elements frequently, **lists** are more suitable as they support **efficient operations** like `append()`, `remove()`, and slicing.\n",
    "\n",
    "   **Example**:\n",
    "   ```python\n",
    "   my_list = [1, 2, 3]\n",
    "   my_list.append(4)  # Adds an element to the end of the list\n",
    "   print(my_list)  # Output: [1, 2, 3, 4]\n",
    "   ```\n",
    "\n",
    "### 4. **When You Need to Work with a Collection of Ordered Items**:\n",
    "   - **Lists** are ideal when you need to work with **ordered collections** of items, such as a list of students, scores, or time series data.\n",
    "   \n",
    "   **Example**:\n",
    "   ```python\n",
    "   student_names = [\"Alice\", \"Bob\", \"Charlie\"]\n",
    "   ```\n",
    "\n",
    "### 5. **When You Need to Use Indexing**:\n",
    "   - **Lists** allow accessing elements by their **index**. If you need to access data based on position, a list is a better choice than a dictionary.\n",
    "\n",
    "   **Example**:\n",
    "   ```python\n",
    "   my_list = ['apple', 'banana', 'cherry']\n",
    "   print(my_list[0])  # Output: apple\n",
    "   ```\n",
    "\n",
    "### **Summary**:\n",
    "Lists are preferred over dictionaries when:\n",
    "- You need **ordered data**.\n",
    "- You want to store **duplicates**.\n",
    "- You need to access elements by **index**.\n",
    "- You want to perform **sequential operations** on a collection.\n",
    "\n",
    "In contrast, dictionaries are better when you need fast access by **key** and don’t care about the order or allow duplicates.\n",
    "\n",
    "\"\"\""
   ]
  },
  {
   "cell_type": "raw",
   "id": "f029688c-6b3b-400c-814d-c14cde9917ec",
   "metadata": {},
   "source": [
    "\"\"\"\n",
    "19)Why are dictionaries considered unordered, and how does that affect data retrieval.\n",
    "\n",
    "In Python, **dictionaries** are considered **unordered** because the **order** of key-value pairs is not guaranteed until Python 3.7. In versions prior to Python 3.7, dictionaries did not maintain the insertion order of items. However, starting from Python 3.7, dictionaries preserve the order of insertion, but they are still conceptually unordered because the keys are hashed, and their ordering is not inherent to their function.\n",
    "\n",
    "### **Why Dictionaries Are Considered Unordered**:\n",
    "1. **Hashing Mechanism**:\n",
    "   - Dictionaries use a **hash table** internally. When a key is inserted, it is hashed to a certain memory location based on its value,\n",
    "                which is used to store the key-value pair.\n",
    "   - The **order** in which keys are stored is not determined by their insertion order but by the hash function.\n",
    "   - The hashing process does not inherently maintain order; the key-value pairs are stored in memory locations determined by the hash values.\n",
    "\n",
    "2. **Pre-Python 3.7 Behavior**:\n",
    "   - In versions prior to Python 3.7, the dictionary did not guarantee any specific order. Keys and values could appear in a seemingly random order when iterating over the dictionary.\n",
    "\n",
    "### **Impact on Data Retrieval**:\n",
    "1. **Access by Key**:\n",
    "   - **Fast retrieval** of values by key is **O(1)** on average, regardless of the order in which the keys were inserted. Since dictionaries are unordered, the hash function enables constant-time lookups, meaning data retrieval does not depend on the order of insertion.\n",
    "   \n",
    "   **Example**:\n",
    "   ```python\n",
    "   my_dict = {'a': 1, 'b': 2, 'c': 3}\n",
    "   print(my_dict['b'])  # O(1) access, retrieving value by key 'b'\n",
    "   ```\n",
    "\n",
    "2. **Iteration**:\n",
    "   - In versions **prior to Python 3.7**, iterating over the dictionary may not give you the same order in which the keys were inserted, since the dictionary does not guarantee any specific order.\n",
    "   - In Python 3.7 and later, dictionaries maintain insertion order when iterating, but **order is not part of the dictionary's logic**, and should not be relied upon when considering the dictionary's primary function (key-value mapping).\n",
    "\n",
    "   **Example** (Python 3.7+):\n",
    "   ```python\n",
    "   my_dict = {'a': 1, 'b': 2, 'c': 3}\n",
    "   for key, value in my_dict.items():\n",
    "       print(key, value)  # Output: 'a' 1, 'b' 2, 'c' 3 (in insertion order)\n",
    "   ```\n",
    "\n",
    "### **Summary**:\n",
    "- **Dictionaries** are considered unordered due to their **hash-based structure**, which does not inherently maintain the order of keys.\n",
    "- **Data retrieval** by key is fast (O(1) on average) because the order doesn't matter for access.\n",
    "- From Python 3.7 onwards, dictionaries **do maintain insertion order** for iteration, but order is still not part of the dictionary's fundamental behavior.\n",
    "\"\"\""
   ]
  },
  {
   "cell_type": "raw",
   "id": "e512a76f-5610-45f0-9c6e-0c72a453e1db",
   "metadata": {},
   "source": [
    "\"\"\"\n",
    "20)Explain the difference between a list and a dictionary in terms of data retrieval.\n",
    "\n",
    "    The primary difference between a **list** and a **dictionary** in terms of **data retrieval** lies in how you access the elements and how quickly the retrieval process is:\n",
    "\n",
    "### **1. Data Retrieval in a List**:\n",
    "- A **list** is an **ordered** collection, and you retrieve items based on their **index** (position in the list).\n",
    "- **Indexing** starts from 0, so to access an element, you provide the index number of the item you want to retrieve.\n",
    "- Retrieving an item from a list is done using the index and has a **time complexity of O(1)** for direct access. However, finding an item by value (i.e., searching for the index of a specific item) takes **O(n)** time because the list may need to be searched sequentially.\n",
    "\n",
    "**Example**:\n",
    "```python\n",
    "my_list = [10, 20, 30, 40]\n",
    "print(my_list[2])  # Output: 30 (Accessing by index)\n",
    "```\n",
    "\n",
    "- **Time complexity for index access**: **O(1)**\n",
    "- **Time complexity for value search**: **O(n)**\n",
    "\n",
    "### **2. Data Retrieval in a Dictionary**:\n",
    "- A **dictionary** is an **unordered** collection, and you retrieve items based on their **key**.\n",
    "- **Keys** are unique, and each key maps to a corresponding **value**.\n",
    "- Retrieving a value from a dictionary by key is very efficient because Python uses a **hash table** for dictionaries, resulting in **average O(1)** time complexity for key lookups.\n",
    "- You cannot access elements in a dictionary using indices (since the dictionary is unordered); instead, you must provide the **key**.\n",
    "\n",
    "**Example**:\n",
    "```python\n",
    "my_dict = {'a': 1, 'b': 2, 'c': 3}\n",
    "print(my_dict['b'])  # Output: 2 (Accessing by key)\n",
    "```\n",
    "\n",
    "- **Time complexity for key access**: **O(1)** (on average)\n",
    "\n",
    "### **Key Differences in Data Retrieval**:\n",
    "1. **List**:\n",
    "   - Retrieval is by **index**.\n",
    "   - Supports **duplicate values**.\n",
    "   - Fast for accessing by index (O(1)).\n",
    "   - Slower for searching by value (O(n)).\n",
    "\n",
    "2. **Dictionary**:\n",
    "   - Retrieval is by **key**.\n",
    "   - Keys must be **unique**, and you cannot have duplicate keys.\n",
    "   - Fast for accessing by key (O(1) on average).\n",
    "   - Does not support access by index (since it’s unordered).\n",
    "\n",
    "### **Summary**:\n",
    "- **List**: Access by **index**, efficient for index-based lookups, but slower for searching by value.\n",
    "- **Dictionary**: Access by **key**, efficient for key-based lookups (O(1) average time), but does not support index-based access due to its unordered nature.\n",
    "\n",
    " \"\"\""
   ]
  },
  {
   "cell_type": "code",
   "execution_count": null,
   "id": "c2d1bea1-2b5e-49f6-acdd-7011e62d0746",
   "metadata": {},
   "outputs": [],
   "source": []
  },
  {
   "cell_type": "code",
   "execution_count": 37,
   "id": "0438b523-17ef-403c-9d09-e308f278b066",
   "metadata": {},
   "outputs": [
    {
     "name": "stdout",
     "output_type": "stream",
     "text": [
      "MEGHANA\n"
     ]
    }
   ],
   "source": [
    "#1) Write a code to create a string with your name and print it.\n",
    "# Create a string with your name\n",
    "name = \"MEGHANA\"  \n",
    "\n",
    "# Print the string\n",
    "print(name)\n"
   ]
  },
  {
   "cell_type": "code",
   "execution_count": 38,
   "id": "0ab86d95-05ff-45b2-9e14-0c64c4808451",
   "metadata": {},
   "outputs": [
    {
     "name": "stdout",
     "output_type": "stream",
     "text": [
      "11\n"
     ]
    }
   ],
   "source": [
    "#2)Write a code to find the length of the string \"Hello World\".\n",
    "# Define the string\n",
    "my_string = \"Hello World\"\n",
    "\n",
    "# Find and print the length of the string\n",
    "length = len(my_string)\n",
    "print(length)\n"
   ]
  },
  {
   "cell_type": "code",
   "execution_count": 39,
   "id": "3b7c2d0b-05c9-4fa0-b50e-34ab55cb007e",
   "metadata": {},
   "outputs": [
    {
     "name": "stdout",
     "output_type": "stream",
     "text": [
      "Pyt\n"
     ]
    }
   ],
   "source": [
    "#3) Write a code to slice the first 3 characters from the string \"Python Programming\".\n",
    "# Define the string\n",
    "my_string = \"Python Programming\"\n",
    "\n",
    "# Slice the first 3 characters\n",
    "sliced_string = my_string[:3]\n",
    "\n",
    "# Print the sliced string\n",
    "print(sliced_string)\n"
   ]
  },
  {
   "cell_type": "code",
   "execution_count": 40,
   "id": "3c500da5-c105-43f7-be35-5633cf0d7f5f",
   "metadata": {},
   "outputs": [
    {
     "name": "stdout",
     "output_type": "stream",
     "text": [
      "HELLO\n"
     ]
    }
   ],
   "source": [
    "#4) Write a code to convert the string \"hello\" to uppercase.\n",
    "# Define the string\n",
    "my_string = \"hello\"\n",
    "\n",
    "# Convert the string to uppercase\n",
    "uppercase_string = my_string.upper()\n",
    "\n",
    "# Print the uppercase string\n",
    "print(uppercase_string)\n"
   ]
  },
  {
   "cell_type": "code",
   "execution_count": 41,
   "id": "1615b8a8-5b21-44c0-adf1-92fcd141bea7",
   "metadata": {},
   "outputs": [
    {
     "name": "stdout",
     "output_type": "stream",
     "text": [
      "I like orange\n"
     ]
    }
   ],
   "source": [
    "#5) Write a code to replace the word \"apple\" with \"orange\" in the string \"I like apple\".\n",
    "# Define the string\n",
    "my_string = \"I like apple\"\n",
    "\n",
    "# Replace 'apple' with 'orange'\n",
    "replaced_string = my_string.replace(\"apple\", \"orange\")\n",
    "\n",
    "# Print the replaced string\n",
    "print(replaced_string)\n"
   ]
  },
  {
   "cell_type": "code",
   "execution_count": 42,
   "id": "15b53b3f-9809-4cac-ae38-41f724fe2687",
   "metadata": {},
   "outputs": [
    {
     "name": "stdout",
     "output_type": "stream",
     "text": [
      "[1, 2, 3, 4, 5]\n"
     ]
    }
   ],
   "source": [
    "#6) Write a code to create a list with numbers 1 to 5 and print it.\n",
    "# Create a list with numbers from 1 to 5\n",
    "my_list = [1, 2, 3, 4, 5]\n",
    "\n",
    "# Print the list\n",
    "print(my_list)\n"
   ]
  },
  {
   "cell_type": "code",
   "execution_count": 43,
   "id": "2a7bc282-fbe6-47f1-9118-b206f69b8435",
   "metadata": {},
   "outputs": [
    {
     "name": "stdout",
     "output_type": "stream",
     "text": [
      "[1, 2, 3, 4, 10]\n"
     ]
    }
   ],
   "source": [
    "#7) Write a code to append the number 10 to the list [1, 2, 3, 4].\n",
    "# Define the list\n",
    "my_list = [1, 2, 3, 4]\n",
    "\n",
    "# Append the number 10 to the list\n",
    "my_list.append(10)\n",
    "\n",
    "# Print the updated list\n",
    "print(my_list)\n"
   ]
  },
  {
   "cell_type": "code",
   "execution_count": 44,
   "id": "be41c38f-55d8-4ae1-8483-5c82e902d111",
   "metadata": {},
   "outputs": [
    {
     "name": "stdout",
     "output_type": "stream",
     "text": [
      "[1, 2, 4, 5]\n"
     ]
    }
   ],
   "source": [
    "#8) Write a code to remove the number 3 from the list [1, 2, 3, 4, 5].\n",
    "# Define the list\n",
    "my_list = [1, 2, 3, 4, 5]\n",
    "\n",
    "# Remove the number 3 from the list\n",
    "my_list.remove(3)\n",
    "\n",
    "# Print the updated list\n",
    "print(my_list)\n"
   ]
  },
  {
   "cell_type": "code",
   "execution_count": 45,
   "id": "bbd5eb70-9a6c-4313-bfd4-e8a485fdf01c",
   "metadata": {},
   "outputs": [
    {
     "name": "stdout",
     "output_type": "stream",
     "text": [
      "b\n"
     ]
    }
   ],
   "source": [
    "#9)Write a code to access the second element in the list ['a', 'b', 'c', 'd'].\n",
    "# Define the list\n",
    "my_list = ['a', 'b', 'c', 'd']\n",
    "\n",
    "# Access the second element (index 1)\n",
    "second_element = my_list[1]\n",
    "\n",
    "# Print the second element\n",
    "print(second_element)\n"
   ]
  },
  {
   "cell_type": "code",
   "execution_count": 46,
   "id": "5ea4af01-3e47-4355-a3d1-4876af7a7896",
   "metadata": {},
   "outputs": [
    {
     "name": "stdout",
     "output_type": "stream",
     "text": [
      "[50, 40, 30, 20, 10]\n"
     ]
    }
   ],
   "source": [
    "#10) Write a code to reverse the list [10, 20, 30, 40, 50].\n",
    "# Define the list\n",
    "my_list = [10, 20, 30, 40, 50]\n",
    "\n",
    "# Reverse the list\n",
    "my_list.reverse()\n",
    "\n",
    "# Print the reversed list\n",
    "print(my_list)\n"
   ]
  },
  {
   "cell_type": "code",
   "execution_count": 47,
   "id": "9622f60d-6e34-4a40-9387-9c44f8d708f6",
   "metadata": {},
   "outputs": [
    {
     "name": "stdout",
     "output_type": "stream",
     "text": [
      "(10, 20, 30)\n"
     ]
    }
   ],
   "source": [
    "#11) Write a code to create a tuple with the elements 10, 20, 30 and print it.\n",
    "# Create a tuple with the elements 10, 20, 30\n",
    "my_tuple = (10, 20, 30)\n",
    "\n",
    "# Print the tuple\n",
    "print(my_tuple)\n"
   ]
  },
  {
   "cell_type": "code",
   "execution_count": 48,
   "id": "affbeeef-97fb-41e0-9e13-0f7f9e7293a8",
   "metadata": {},
   "outputs": [
    {
     "name": "stdout",
     "output_type": "stream",
     "text": [
      "apple\n"
     ]
    }
   ],
   "source": [
    "#12) Write a code to access the first element of the tuple ('apple', 'banana', 'cherry').\n",
    "# Define the tuple\n",
    "my_tuple = ('apple', 'banana', 'cherry')\n",
    "\n",
    "# Access the first element (index 0)\n",
    "first_element = my_tuple[0]\n",
    "\n",
    "# Print the first element\n",
    "print(first_element)\n"
   ]
  },
  {
   "cell_type": "code",
   "execution_count": 49,
   "id": "a174edd6-eb89-4b4f-ae08-d61c9a849c10",
   "metadata": {},
   "outputs": [
    {
     "name": "stdout",
     "output_type": "stream",
     "text": [
      "3\n"
     ]
    }
   ],
   "source": [
    "#13) Write a code to count how many times the number 2 appears in the tuple (1, 2, 3, 2, 4, 2).\n",
    "# Define the tuple\n",
    "my_tuple = (1, 2, 3, 2, 4, 2)\n",
    "\n",
    "# Count how many times 2 appears in the tuple\n",
    "count_2 = my_tuple.count(2)\n",
    "\n",
    "# Print the count\n",
    "print(count_2)\n"
   ]
  },
  {
   "cell_type": "code",
   "execution_count": 50,
   "id": "eefce5ef-5032-450d-a838-b4e100d8f6b0",
   "metadata": {},
   "outputs": [
    {
     "name": "stdout",
     "output_type": "stream",
     "text": [
      "1\n"
     ]
    }
   ],
   "source": [
    "#14. Write a code to find the index of the element \"cat\" in the tuple ('dog', 'cat', 'rabbit').\n",
    "# Define the tuple\n",
    "my_tuple = ('dog', 'cat', 'rabbit')\n",
    "\n",
    "# Find the index of the element \"cat\"\n",
    "index_cat = my_tuple.index('cat')\n",
    "\n",
    "# Print the index\n",
    "print(index_cat)\n"
   ]
  },
  {
   "cell_type": "code",
   "execution_count": 51,
   "id": "d6c7027c-7012-46cd-8bd4-e0cc682116d2",
   "metadata": {},
   "outputs": [
    {
     "name": "stdout",
     "output_type": "stream",
     "text": [
      "True\n"
     ]
    }
   ],
   "source": [
    "#15. Write a code to check if the element \"banana\" is in the tuple ('apple', 'orange', 'banana').\n",
    "# Define the tuple\n",
    "my_tuple = ('apple', 'orange', 'banana')\n",
    "\n",
    "# Check if \"banana\" is in the tuple\n",
    "is_banana_in_tuple = 'banana' in my_tuple\n",
    "\n",
    "# Print the result\n",
    "print(is_banana_in_tuple)\n"
   ]
  },
  {
   "cell_type": "code",
   "execution_count": 52,
   "id": "386d0e4f-7f06-49b8-a022-bc8f569edea9",
   "metadata": {},
   "outputs": [
    {
     "name": "stdout",
     "output_type": "stream",
     "text": [
      "{1, 2, 3, 4, 5}\n"
     ]
    }
   ],
   "source": [
    "\n",
    "#16. Write a code to create a set with the elements 1, 2, 3, 4, 5 and print it.\n",
    "# Create a set with the elements 1, 2, 3, 4, 5\n",
    "my_set = {1, 2, 3, 4, 5}\n",
    "\n",
    "# Print the set\n",
    "print(my_set)\n"
   ]
  },
  {
   "cell_type": "code",
   "execution_count": 53,
   "id": "2eeda6b6-8a8b-4867-970a-cb962d963604",
   "metadata": {},
   "outputs": [
    {
     "name": "stdout",
     "output_type": "stream",
     "text": [
      "{1, 2, 3, 4, 6}\n"
     ]
    }
   ],
   "source": [
    "\n",
    "#17. Write a code to add the element 6 to the set {1, 2, 3, 4}.\n",
    "# Define the set\n",
    "my_set = {1, 2, 3, 4}\n",
    "\n",
    "# Add the element 6 to the set\n",
    "my_set.add(6)\n",
    "\n",
    "# Print the updated set\n",
    "print(my_set)\n"
   ]
  },
  {
   "cell_type": "code",
   "execution_count": 54,
   "id": "c887cccc-7dad-42e8-933d-33a125af329e",
   "metadata": {},
   "outputs": [
    {
     "name": "stdout",
     "output_type": "stream",
     "text": [
      "(10, 20, 30)\n"
     ]
    }
   ],
   "source": [
    "#18. Write a code to create a tuple with the elements 10, 20, 30 and print it.\n",
    "# Create a tuple with the elements 10, 20, 30\n",
    "my_tuple = (10, 20, 30)\n",
    "\n",
    "# Print the tuple\n",
    "print(my_tuple)\n"
   ]
  },
  {
   "cell_type": "code",
   "execution_count": 55,
   "id": "1d54b21f-705c-4251-bfe0-f03a2e3cdb8f",
   "metadata": {},
   "outputs": [
    {
     "name": "stdout",
     "output_type": "stream",
     "text": [
      "apple\n"
     ]
    }
   ],
   "source": [
    "#19. Write a code to access the first element of the tuple ('apple', 'banana', 'cherry').\n",
    "# Define the tuple\n",
    "my_tuple = ('apple', 'banana', 'cherry')\n",
    "\n",
    "# Access the first element (index 0)\n",
    "first_element = my_tuple[0]\n",
    "\n",
    "# Print the first element\n",
    "print(first_element)\n"
   ]
  },
  {
   "cell_type": "code",
   "execution_count": 56,
   "id": "22e85e6a-c2c0-49ad-8e62-875271692e58",
   "metadata": {},
   "outputs": [
    {
     "name": "stdout",
     "output_type": "stream",
     "text": [
      "3\n"
     ]
    }
   ],
   "source": [
    "#20. Write a code to count how many times the number 2 appears in the tuple (1, 2, 3, 2, 4, 2).\n",
    "# Define the tuple\n",
    "my_tuple = (1, 2, 3, 2, 4, 2)\n",
    "\n",
    "# Count how many times 2 appears in the tuple\n",
    "count_2 = my_tuple.count(2)\n",
    "\n",
    "# Print the count\n",
    "print(count_2)\n"
   ]
  },
  {
   "cell_type": "code",
   "execution_count": 57,
   "id": "d09e9aeb-8e1d-4adc-bd2a-c129fe8a42e5",
   "metadata": {},
   "outputs": [
    {
     "name": "stdout",
     "output_type": "stream",
     "text": [
      "1\n"
     ]
    }
   ],
   "source": [
    "#21. Write a code to find the index of the element \"cat\" in the tuple ('dog', 'cat', 'rabbit').\n",
    "\n",
    "# Define the tuple\n",
    "my_tuple = ('dog', 'cat', 'rabbit')\n",
    "\n",
    "# Find the index of the element \"cat\"\n",
    "index_cat = my_tuple.index('cat')\n",
    "\n",
    "# Print the index\n",
    "print(index_cat)\n"
   ]
  },
  {
   "cell_type": "code",
   "execution_count": 58,
   "id": "c10c7e31-5288-4a34-8748-d07277243e7f",
   "metadata": {},
   "outputs": [
    {
     "name": "stdout",
     "output_type": "stream",
     "text": [
      "True\n"
     ]
    }
   ],
   "source": [
    "#22. Write a code to check if the element \"banana\" is in the tuple ('apple', 'orange', 'banana').\n",
    "\n",
    "# Define the tuple\n",
    "my_tuple = ('apple', 'orange', 'banana')\n",
    "\n",
    "# Check if \"banana\" is in the tuple\n",
    "is_banana_in_tuple = 'banana' in my_tuple\n",
    "\n",
    "# Print the result\n",
    "print(is_banana_in_tuple)\n"
   ]
  },
  {
   "cell_type": "code",
   "execution_count": 59,
   "id": "6b50eb7a-095f-4e04-9969-cc00868c462d",
   "metadata": {},
   "outputs": [
    {
     "name": "stdout",
     "output_type": "stream",
     "text": [
      "{1, 2, 3, 4, 5}\n"
     ]
    }
   ],
   "source": [
    "\n",
    "#23. Write a code to create a set with the elements 1, 2, 3, 4, 5 and print it.\n",
    "# Create a set with the elements 1, 2, 3, 4, 5\n",
    "my_set = {1, 2, 3, 4, 5}\n",
    "\n",
    "# Print the set\n",
    "print(my_set)\n"
   ]
  },
  {
   "cell_type": "code",
   "execution_count": 60,
   "id": "90a92853-18f3-4a5a-bd82-2101388f44e9",
   "metadata": {},
   "outputs": [
    {
     "name": "stdout",
     "output_type": "stream",
     "text": [
      "{1, 2, 3, 4, 6}\n"
     ]
    }
   ],
   "source": [
    "\n",
    "#24. Write a code to add the element 6 to the set {1, 2, 3, 4}.\n",
    "# Define the set\n",
    "my_set = {1, 2, 3, 4}\n",
    "\n",
    "# Add the element 6 to the set\n",
    "my_set.add(6)\n",
    "\n",
    "# Print the updated set\n",
    "print(my_set)\n",
    "\n"
   ]
  },
  {
   "cell_type": "code",
   "execution_count": null,
   "id": "52df2c4d-a8f1-4c8e-a096-b84efb17c79d",
   "metadata": {},
   "outputs": [],
   "source": []
  }
 ],
 "metadata": {
  "kernelspec": {
   "display_name": "Python 3 (ipykernel)",
   "language": "python",
   "name": "python3"
  },
  "language_info": {
   "codemirror_mode": {
    "name": "ipython",
    "version": 3
   },
   "file_extension": ".py",
   "mimetype": "text/x-python",
   "name": "python",
   "nbconvert_exporter": "python",
   "pygments_lexer": "ipython3",
   "version": "3.12.3"
  }
 },
 "nbformat": 4,
 "nbformat_minor": 5
}
