{
 "cells": [
  {
   "cell_type": "code",
   "execution_count": 105,
   "id": "45abdbcb-9ffa-435c-8f19-63f3b5c9e885",
   "metadata": {},
   "outputs": [
    {
     "data": {
      "text/plain": [
       "'\\n1. **What is Object-Oriented Programming (OOP)?**  \\n   Object-Oriented Programming is a programming paradigm that organizes code into objects, which are instances of classes. It uses four key principles: Encapsulation, Abstraction, Inheritance, and Polymorphism.\\n'"
      ]
     },
     "execution_count": 105,
     "metadata": {},
     "output_type": "execute_result"
    }
   ],
   "source": [
    "\"\"\"\n",
    "1. **What is Object-Oriented Programming (OOP)?**  \n",
    "   Object-Oriented Programming is a programming paradigm that organizes code into objects, which are instances of classes. It uses four key principles: Encapsulation, Abstraction, Inheritance, and Polymorphism.\n",
    "\"\"\""
   ]
  },
  {
   "cell_type": "code",
   "execution_count": 106,
   "id": "2cd7b1ef-4917-4d85-96b2-a7f1baaf8c04",
   "metadata": {},
   "outputs": [
    {
     "data": {
      "text/plain": [
       "'\\n2. **What is a class in OOP?**  \\n   A class is a blueprint for creating objects in OOP. It defines properties (attributes) and behaviors (methods) that the objects created from it will have.\\n'"
      ]
     },
     "execution_count": 106,
     "metadata": {},
     "output_type": "execute_result"
    }
   ],
   "source": [
    "\"\"\"\n",
    "2. **What is a class in OOP?**  \n",
    "   A class is a blueprint for creating objects in OOP. It defines properties (attributes) and behaviors (methods) that the objects created from it will have.\n",
    "\"\"\""
   ]
  },
  {
   "cell_type": "code",
   "execution_count": 107,
   "id": "b2368645-3b32-4c31-883b-8b86b0153ecc",
   "metadata": {},
   "outputs": [
    {
     "data": {
      "text/plain": [
       "'\\n3. **What is an object in OOP?**  \\n   An object is an instance of a class. It contains the attributes and behaviors defined by the class. Objects represent entities or things in the real world that we want to model in our programs.\\n'"
      ]
     },
     "execution_count": 107,
     "metadata": {},
     "output_type": "execute_result"
    }
   ],
   "source": [
    "\"\"\"\n",
    "3. **What is an object in OOP?**  \n",
    "   An object is an instance of a class. It contains the attributes and behaviors defined by the class. Objects represent entities or things in the real world that we want to model in our programs.\n",
    "\"\"\""
   ]
  },
  {
   "cell_type": "code",
   "execution_count": 108,
   "id": "0f499073-c26a-4105-aaa4-10593d6a42e5",
   "metadata": {},
   "outputs": [
    {
     "data": {
      "text/plain": [
       "\"\\n4. **What is the difference between abstraction and encapsulation?**  \\n   - **Abstraction**: Focuses on hiding the complex implementation details and exposing only essential features to the user. It simplifies complex systems by showing only relevant data.\\n   - **Encapsulation**: Refers to bundling the data (attributes) and methods that operate on the data into a single unit (class), and restricting access to some of the object's components. It is achieved through the use of access modifiers like private, protected, or public.\\n\""
      ]
     },
     "execution_count": 108,
     "metadata": {},
     "output_type": "execute_result"
    }
   ],
   "source": [
    "\"\"\"\n",
    "4. **What is the difference between abstraction and encapsulation?**  \n",
    "   - **Abstraction**: Focuses on hiding the complex implementation details and exposing only essential features to the user. It simplifies complex systems by showing only relevant data.\n",
    "   - **Encapsulation**: Refers to bundling the data (attributes) and methods that operate on the data into a single unit (class), and restricting access to some of the object's components. It is achieved through the use of access modifiers like private, protected, or public.\n",
    "\"\"\""
   ]
  },
  {
   "cell_type": "code",
   "execution_count": 109,
   "id": "76eb61c2-87cf-4f42-8480-6dc1eac3f581",
   "metadata": {},
   "outputs": [
    {
     "data": {
      "text/plain": [
       "'\\n5. **What are dunder methods in Python?**  \\n   Dunder methods (short for \"double underscore\") are special methods in Python that are used to implement functionality for various operations, such as `__init__` for object initialization, `__str__` for string representation, and `__add__` for operator overloading.\\n'"
      ]
     },
     "execution_count": 109,
     "metadata": {},
     "output_type": "execute_result"
    }
   ],
   "source": [
    "\"\"\"\n",
    "5. **What are dunder methods in Python?**  \n",
    "   Dunder methods (short for \"double underscore\") are special methods in Python that are used to implement functionality for various operations, such as `__init__` for object initialization, `__str__` for string representation, and `__add__` for operator overloading.\n",
    "\"\"\""
   ]
  },
  {
   "cell_type": "code",
   "execution_count": 110,
   "id": "b824a42e-5cbc-469c-94f0-7ca7958117ee",
   "metadata": {},
   "outputs": [
    {
     "data": {
      "text/plain": [
       "'\\n6. **Explain the concept of inheritance in OOP?**  \\n   Inheritance is a mechanism where one class (child class) inherits attributes and behaviors (methods) from another class (parent class). It promotes code reuse and a hierarchical class structure.\\n'"
      ]
     },
     "execution_count": 110,
     "metadata": {},
     "output_type": "execute_result"
    }
   ],
   "source": [
    "\"\"\"\n",
    "6. **Explain the concept of inheritance in OOP?**  \n",
    "   Inheritance is a mechanism where one class (child class) inherits attributes and behaviors (methods) from another class (parent class). It promotes code reuse and a hierarchical class structure.\n",
    "\"\"\""
   ]
  },
  {
   "cell_type": "code",
   "execution_count": 111,
   "id": "7e948e46-a1a6-4496-b0da-60b609142457",
   "metadata": {},
   "outputs": [
    {
     "data": {
      "text/plain": [
       "'\\n7. **What is polymorphism in OOP?**  \\n   Polymorphism allows objects of different classes to be treated as objects of a common superclass. It enables methods to have different implementations based on the object calling them, thus promoting flexibility.\\n'"
      ]
     },
     "execution_count": 111,
     "metadata": {},
     "output_type": "execute_result"
    }
   ],
   "source": [
    "\"\"\"\n",
    "7. **What is polymorphism in OOP?**  \n",
    "   Polymorphism allows objects of different classes to be treated as objects of a common superclass. It enables methods to have different implementations based on the object calling them, thus promoting flexibility.\n",
    "\"\"\""
   ]
  },
  {
   "cell_type": "code",
   "execution_count": 112,
   "id": "68846a4f-620d-485a-8a4c-7defdebf5f9f",
   "metadata": {},
   "outputs": [
    {
     "data": {
      "text/plain": [
       "\"\\n8. **How is encapsulation achieved in Python?**  \\n   Encapsulation in Python is achieved by defining classes and using methods to interact with the object's attributes. We can also restrict access to certain attributes using underscores (`_`) or double underscores (`__`).\\n\""
      ]
     },
     "execution_count": 112,
     "metadata": {},
     "output_type": "execute_result"
    }
   ],
   "source": [
    "\"\"\"\n",
    "8. **How is encapsulation achieved in Python?**  \n",
    "   Encapsulation in Python is achieved by defining classes and using methods to interact with the object's attributes. We can also restrict access to certain attributes using underscores (`_`) or double underscores (`__`).\n",
    "\"\"\""
   ]
  },
  {
   "cell_type": "code",
   "execution_count": 113,
   "id": "3526d3a1-18d8-4055-b553-e4b952994f88",
   "metadata": {},
   "outputs": [
    {
     "data": {
      "text/plain": [
       "\"\\n9. **What is a constructor in Python?**  \\n   A constructor is a special method (`__init__`) that is called when an object is created. It initializes the object's attributes and sets up the state of the object.\\n\""
      ]
     },
     "execution_count": 113,
     "metadata": {},
     "output_type": "execute_result"
    }
   ],
   "source": [
    "\"\"\"\n",
    "9. **What is a constructor in Python?**  \n",
    "   A constructor is a special method (`__init__`) that is called when an object is created. It initializes the object's attributes and sets up the state of the object.\n",
    "\"\"\""
   ]
  },
  {
   "cell_type": "code",
   "execution_count": 114,
   "id": "61bc90b1-0e94-437a-8fd3-2d1cf06c3296",
   "metadata": {},
   "outputs": [
    {
     "data": {
      "text/plain": [
       "\"\\n10. **What are class and static methods in Python?**  \\n   - **Class method**: A method that takes the class as the first argument (`cls`) instead of an instance. It is defined using the `@classmethod` decorator.\\n   - **Static method**: A method that does not depend on the instance or the class. It behaves like a regular function, but it is included in the class's namespace. It is defined using the `@staticmethod` decorator.\\n\""
      ]
     },
     "execution_count": 114,
     "metadata": {},
     "output_type": "execute_result"
    }
   ],
   "source": [
    "\n",
    "\"\"\"\n",
    "10. **What are class and static methods in Python?**  \n",
    "   - **Class method**: A method that takes the class as the first argument (`cls`) instead of an instance. It is defined using the `@classmethod` decorator.\n",
    "   - **Static method**: A method that does not depend on the instance or the class. It behaves like a regular function, but it is included in the class's namespace. It is defined using the `@staticmethod` decorator.\n",
    "\"\"\""
   ]
  },
  {
   "cell_type": "code",
   "execution_count": 115,
   "id": "5567c768-28ed-49d2-b98c-adca8f0778ee",
   "metadata": {},
   "outputs": [
    {
     "data": {
      "text/plain": [
       "'\\n11. **What is method overloading in Python?**  \\n   Python does not support method overloading in the traditional sense (multiple methods with the same name but different signatures). However, we can achieve similar functionality by using default arguments or variable-length arguments (`*args`, `**kwargs`).\\n'"
      ]
     },
     "execution_count": 115,
     "metadata": {},
     "output_type": "execute_result"
    }
   ],
   "source": [
    "\n",
    "\"\"\"\n",
    "11. **What is method overloading in Python?**  \n",
    "   Python does not support method overloading in the traditional sense (multiple methods with the same name but different signatures). However, we can achieve similar functionality by using default arguments or variable-length arguments (`*args`, `**kwargs`).\n",
    "\"\"\""
   ]
  },
  {
   "cell_type": "code",
   "execution_count": 116,
   "id": "9a52db2c-18d4-4d4e-a03c-69ce4bde6ba6",
   "metadata": {},
   "outputs": [
    {
     "data": {
      "text/plain": [
       "'\\n12. **What is method overriding in OOP?**  \\n   Method overriding occurs when a subclass provides a specific implementation of a method that is already defined in its superclass. The subclass method overrides the superclass method.\\n'"
      ]
     },
     "execution_count": 116,
     "metadata": {},
     "output_type": "execute_result"
    }
   ],
   "source": [
    "\"\"\"\n",
    "12. **What is method overriding in OOP?**  \n",
    "   Method overriding occurs when a subclass provides a specific implementation of a method that is already defined in its superclass. The subclass method overrides the superclass method.\n",
    "\"\"\""
   ]
  },
  {
   "cell_type": "code",
   "execution_count": 117,
   "id": "cbd38aac-3f62-4b67-87c0-3c4923731ff3",
   "metadata": {},
   "outputs": [
    {
     "data": {
      "text/plain": [
       "'\\n13. **What is a property decorator in Python?**  \\n   The `@property` decorator in Python allows you to define a method as a property. It lets you access the method as an attribute, providing a way to control how an attribute is accessed and modified.\\n'"
      ]
     },
     "execution_count": 117,
     "metadata": {},
     "output_type": "execute_result"
    }
   ],
   "source": [
    "\"\"\"\n",
    "13. **What is a property decorator in Python?**  \n",
    "   The `@property` decorator in Python allows you to define a method as a property. It lets you access the method as an attribute, providing a way to control how an attribute is accessed and modified.\n",
    "\"\"\""
   ]
  },
  {
   "cell_type": "code",
   "execution_count": 118,
   "id": "3ebc0662-9135-45c9-8b5c-2324e4d7c612",
   "metadata": {},
   "outputs": [
    {
     "data": {
      "text/plain": [
       "'\\n14. **Why is polymorphism important in OOP?**  \\n   Polymorphism is important because it allows for flexibility and scalability in code. It enables the use of common interfaces for different objects, reducing the need for repetitive code and allowing for easier maintenance.\\n'"
      ]
     },
     "execution_count": 118,
     "metadata": {},
     "output_type": "execute_result"
    }
   ],
   "source": [
    "\"\"\"\n",
    "14. **Why is polymorphism important in OOP?**  \n",
    "   Polymorphism is important because it allows for flexibility and scalability in code. It enables the use of common interfaces for different objects, reducing the need for repetitive code and allowing for easier maintenance.\n",
    "\"\"\""
   ]
  },
  {
   "cell_type": "code",
   "execution_count": 119,
   "id": "8b8b756a-2ddf-4085-97a9-8db5f29af0bb",
   "metadata": {},
   "outputs": [
    {
     "data": {
      "text/plain": [
       "'\\n15. **What is an abstract class in Python?**  \\n   An abstract class is a class that cannot be instantiated on its own and is meant to be subclassed. It can contain abstract methods that must be implemented by any subclass.\\n'"
      ]
     },
     "execution_count": 119,
     "metadata": {},
     "output_type": "execute_result"
    }
   ],
   "source": [
    "\n",
    "\"\"\"\n",
    "15. **What is an abstract class in Python?**  \n",
    "   An abstract class is a class that cannot be instantiated on its own and is meant to be subclassed. It can contain abstract methods that must be implemented by any subclass.\n",
    "\"\"\""
   ]
  },
  {
   "cell_type": "code",
   "execution_count": 120,
   "id": "26cac2a0-8820-4e7a-a80f-eaaeb0a687a2",
   "metadata": {},
   "outputs": [
    {
     "data": {
      "text/plain": [
       "'\\n16. **What are the advantages of OOP?**  \\n   - Modularity: Code is divided into classes and objects, making it easier to maintain.\\n   - Reusability: Inheritance allows for code reuse.\\n   - Flexibility: Polymorphism allows for the use of objects in different ways.\\n   - Abstraction: Complex systems are made simpler by focusing on essential features.\\n'"
      ]
     },
     "execution_count": 120,
     "metadata": {},
     "output_type": "execute_result"
    }
   ],
   "source": [
    "\"\"\"\n",
    "16. **What are the advantages of OOP?**  \n",
    "   - Modularity: Code is divided into classes and objects, making it easier to maintain.\n",
    "   - Reusability: Inheritance allows for code reuse.\n",
    "   - Flexibility: Polymorphism allows for the use of objects in different ways.\n",
    "   - Abstraction: Complex systems are made simpler by focusing on essential features.\n",
    "\"\"\""
   ]
  },
  {
   "cell_type": "code",
   "execution_count": 121,
   "id": "7ad52900-5bf8-46db-8a7f-4aab18272e98",
   "metadata": {},
   "outputs": [
    {
     "data": {
      "text/plain": [
       "'\\n17. **What is the difference between a class variable and an instance variable?**  \\n   - **Class variable**: A variable that is shared across all instances of a class. It is defined at the class level.\\n   - **Instance variable**: A variable that is specific to an instance of the class. Each object has its own copy of instance variables.\\n'"
      ]
     },
     "execution_count": 121,
     "metadata": {},
     "output_type": "execute_result"
    }
   ],
   "source": [
    "\"\"\"\n",
    "17. **What is the difference between a class variable and an instance variable?**  \n",
    "   - **Class variable**: A variable that is shared across all instances of a class. It is defined at the class level.\n",
    "   - **Instance variable**: A variable that is specific to an instance of the class. Each object has its own copy of instance variables.\n",
    "\"\"\""
   ]
  },
  {
   "cell_type": "code",
   "execution_count": 122,
   "id": "f8b84217-b983-49c1-b9bc-010f61178b71",
   "metadata": {},
   "outputs": [
    {
     "data": {
      "text/plain": [
       "'\\n18. **What is multiple inheritance in Python?**  \\n   Multiple inheritance is a feature in Python where a class can inherit from more than one parent class. The child class can inherit attributes and methods from multiple classes.\\n'"
      ]
     },
     "execution_count": 122,
     "metadata": {},
     "output_type": "execute_result"
    }
   ],
   "source": [
    "\"\"\"\n",
    "18. **What is multiple inheritance in Python?**  \n",
    "   Multiple inheritance is a feature in Python where a class can inherit from more than one parent class. The child class can inherit attributes and methods from multiple classes.\n",
    "\"\"\""
   ]
  },
  {
   "cell_type": "code",
   "execution_count": 123,
   "id": "df9f1303-ce6b-41de-a6b0-318a35f800d6",
   "metadata": {},
   "outputs": [
    {
     "data": {
      "text/plain": [
       "'\\n19. **Explain the purpose of `__str__` and `__repr__` methods in Python?**  \\n   - `__str__`: Defines the string representation of an object for human-readable output (e.g., for printing).\\n   - `__repr__`: Defines the official string representation of an object, meant to be unambiguous and useful for debugging.\\n'"
      ]
     },
     "execution_count": 123,
     "metadata": {},
     "output_type": "execute_result"
    }
   ],
   "source": [
    "\"\"\"\n",
    "19. **Explain the purpose of `__str__` and `__repr__` methods in Python?**  \n",
    "   - `__str__`: Defines the string representation of an object for human-readable output (e.g., for printing).\n",
    "   - `__repr__`: Defines the official string representation of an object, meant to be unambiguous and useful for debugging.\n",
    "\"\"\""
   ]
  },
  {
   "cell_type": "code",
   "execution_count": 124,
   "id": "113d8cef-4942-489d-bff9-d96520f32927",
   "metadata": {},
   "outputs": [
    {
     "data": {
      "text/plain": [
       "\"\\n20. **What is the significance of the `super()` function in Python?**  \\n   `super()` is used to call a method from the parent class. It is especially useful for calling the parent class's `__init__` method when using inheritance.\\n\""
      ]
     },
     "execution_count": 124,
     "metadata": {},
     "output_type": "execute_result"
    }
   ],
   "source": [
    "\"\"\"\n",
    "20. **What is the significance of the `super()` function in Python?**  \n",
    "   `super()` is used to call a method from the parent class. It is especially useful for calling the parent class's `__init__` method when using inheritance.\n",
    "\"\"\""
   ]
  },
  {
   "cell_type": "code",
   "execution_count": 125,
   "id": "64584b51-c4b2-4429-b9f0-daeab38f524a",
   "metadata": {},
   "outputs": [
    {
     "data": {
      "text/plain": [
       "'\\n21. **What is the significance of the `__del__` method in Python?**  \\n   The `__del__` method is called when an object is about to be destroyed. It allows for cleanup of resources before the object is removed from memory.\\n'"
      ]
     },
     "execution_count": 125,
     "metadata": {},
     "output_type": "execute_result"
    }
   ],
   "source": [
    "\"\"\"\n",
    "21. **What is the significance of the `__del__` method in Python?**  \n",
    "   The `__del__` method is called when an object is about to be destroyed. It allows for cleanup of resources before the object is removed from memory.\n",
    "\"\"\""
   ]
  },
  {
   "cell_type": "code",
   "execution_count": 126,
   "id": "ff2b1b04-4a72-4c1e-bf6a-6da43b8bbeab",
   "metadata": {},
   "outputs": [
    {
     "data": {
      "text/plain": [
       "'\\n22. **What is the difference between `@staticmethod` and `@classmethod` in Python?**  \\n   - `@staticmethod`: A static method that does not depend on the class or instance and is not passed the class or instance as an argument.\\n   - `@classmethod`: A method that takes the class (`cls`) as the first argument, allowing it to modify class-level attributes.\\n'"
      ]
     },
     "execution_count": 126,
     "metadata": {},
     "output_type": "execute_result"
    }
   ],
   "source": [
    "\"\"\"\n",
    "22. **What is the difference between `@staticmethod` and `@classmethod` in Python?**  \n",
    "   - `@staticmethod`: A static method that does not depend on the class or instance and is not passed the class or instance as an argument.\n",
    "   - `@classmethod`: A method that takes the class (`cls`) as the first argument, allowing it to modify class-level attributes.\n",
    "\"\"\""
   ]
  },
  {
   "cell_type": "code",
   "execution_count": 127,
   "id": "362cdbc6-f141-4e82-bca5-48edfd1a03b8",
   "metadata": {},
   "outputs": [
    {
     "data": {
      "text/plain": [
       "'\\n23. **How does polymorphism work in Python with inheritance?**  \\n   Polymorphism in Python allows for method overriding in subclasses, where the subclass method has a different implementation than the superclass method. It allows objects to behave differently based on their type, even when they share a common interface.\\n'"
      ]
     },
     "execution_count": 127,
     "metadata": {},
     "output_type": "execute_result"
    }
   ],
   "source": [
    "\"\"\"\n",
    "23. **How does polymorphism work in Python with inheritance?**  \n",
    "   Polymorphism in Python allows for method overriding in subclasses, where the subclass method has a different implementation than the superclass method. It allows objects to behave differently based on their type, even when they share a common interface.\n",
    "\"\"\""
   ]
  },
  {
   "cell_type": "code",
   "execution_count": 128,
   "id": "1de9c5bd-38e2-4c98-859a-57b460d09687",
   "metadata": {},
   "outputs": [
    {
     "data": {
      "text/plain": [
       "'\\n24. **What is method chaining in Python OOP?**  \\n   Method chaining is the practice of calling multiple methods on the same object in a single line. It is achieved by having methods return the object itself (`self`), allowing for consecutive calls.\\n'"
      ]
     },
     "execution_count": 128,
     "metadata": {},
     "output_type": "execute_result"
    }
   ],
   "source": [
    "\"\"\"\n",
    "24. **What is method chaining in Python OOP?**  \n",
    "   Method chaining is the practice of calling multiple methods on the same object in a single line. It is achieved by having methods return the object itself (`self`), allowing for consecutive calls.\n",
    "\"\"\""
   ]
  },
  {
   "cell_type": "code",
   "execution_count": 153,
   "id": "0ff6fc76-15bc-4ab1-ad4a-8ce45525d982",
   "metadata": {},
   "outputs": [
    {
     "data": {
      "text/plain": [
       "'\\n25. **What is the purpose of the `__call__` method in Python?**  \\n   The `__call__` method allows an object to be called like a function. When an object is called, this method is invoked, enabling the object to behave like a callable function.\\n'"
      ]
     },
     "execution_count": 153,
     "metadata": {},
     "output_type": "execute_result"
    }
   ],
   "source": [
    "\"\"\"\n",
    "25. **What is the purpose of the `__call__` method in Python?**  \n",
    "   The `__call__` method allows an object to be called like a function. When an object is called, this method is invoked, enabling the object to behave like a callable function.\n",
    "\"\"\""
   ]
  },
  {
   "cell_type": "code",
   "execution_count": null,
   "id": "e99604f4-d914-44d6-aeec-72668d146c86",
   "metadata": {},
   "outputs": [],
   "source": []
  },
  {
   "cell_type": "code",
   "execution_count": 154,
   "id": "ad66428d-520b-44e5-956c-5d49217a2b2c",
   "metadata": {},
   "outputs": [
    {
     "name": "stdout",
     "output_type": "stream",
     "text": [
      "Animal makes a sound\n",
      "Bark!\n"
     ]
    }
   ],
   "source": [
    "\n",
    "### 1. **Create a parent class Animal with a method speak() that prints a generic message. Create a child class Dog that overrides the speak() method to print \"Bark!\"**\n",
    "\n",
    "\n",
    "class Animal:\n",
    "    def speak(self):\n",
    "        print(\"Animal makes a sound\")\n",
    "\n",
    "class Dog(Animal):\n",
    "    def speak(self):\n",
    "        print(\"Bark!\")\n",
    "\n",
    "\n",
    "animal = Animal()\n",
    "animal.speak()  # Output: Animal makes a sound\n",
    "\n",
    "dog = Dog()\n",
    "dog.speak()  # Output: Bark!\n"
   ]
  },
  {
   "cell_type": "code",
   "execution_count": 155,
   "id": "1716f5dd-6f6e-4485-85fc-887893422c8e",
   "metadata": {},
   "outputs": [
    {
     "name": "stdout",
     "output_type": "stream",
     "text": [
      "78.5\n",
      "24\n"
     ]
    }
   ],
   "source": [
    "### 2. **Write a program to create an abstract class Shape with a method area(). Derive classes Circle and Rectangle from it and implement the area() method in both.**\n",
    "\n",
    "\n",
    "from abc import ABC, abstractmethod\n",
    "\n",
    "class Shape(ABC):\n",
    "    @abstractmethod\n",
    "    def area(self):\n",
    "        pass\n",
    "\n",
    "class Circle(Shape):\n",
    "    def area(self):\n",
    "        return 3.14 * 5 ** 2  # Example radius 5\n",
    "\n",
    "class Rectangle(Shape):\n",
    "    def area(self):\n",
    "        return 4 * 6  # Example length 4, width 6\n",
    "circle = Circle()\n",
    "print(circle.area())  # Output: 78.5 (area of a circle with radius 5)\n",
    "\n",
    "rectangle = Rectangle()\n",
    "print(rectangle.area())  # Output: 24 (area of a rectangle with length 4, width 6)\n"
   ]
  },
  {
   "cell_type": "code",
   "execution_count": 156,
   "id": "84e4ac34-e33e-4eb9-ae0b-d14b6a21a401",
   "metadata": {},
   "outputs": [
    {
     "name": "stdout",
     "output_type": "stream",
     "text": [
      "Electric\n",
      "Tesla\n",
      "100\n"
     ]
    }
   ],
   "source": [
    "### 3. **Implement a multi-level inheritance scenario where a class Vehicle has an attribute type. Derive a class Car and further derive a class ElectricCar that adds a battery attribute.**\n",
    "\n",
    "\n",
    "class Vehicle:\n",
    "    def __init__(self, type):\n",
    "        self.type = type\n",
    "\n",
    "class Car(Vehicle):\n",
    "    def __init__(self, type, brand):\n",
    "        super().__init__(type)\n",
    "        self.brand = brand\n",
    "\n",
    "class ElectricCar(Car):\n",
    "    def __init__(self, type, brand, battery):\n",
    "        super().__init__(type, brand)\n",
    "        self.battery = battery\n",
    "        \n",
    "electric_car = ElectricCar(\"Electric\", \"Tesla\", 100)\n",
    "print(electric_car.type)  # Output: Electric\n",
    "print(electric_car.brand)  # Output: Tesla\n",
    "print(electric_car.battery)  # Output: 100\n",
    "\n"
   ]
  },
  {
   "cell_type": "code",
   "execution_count": 157,
   "id": "d8e99fb1-71e1-4bea-93d6-dca3db8cb617",
   "metadata": {},
   "outputs": [
    {
     "name": "stdout",
     "output_type": "stream",
     "text": [
      "Bird is flying\n",
      "Sparrow is flying\n",
      "Penguin cannot fly\n"
     ]
    }
   ],
   "source": [
    "### 4. **Demonstrate polymorphism by creating a base class Bird with a method fly(). Create two derived classes Sparrow and Penguin that override the fly() method.**\n",
    "\n",
    "class Bird:\n",
    "    def fly(self):\n",
    "        print(\"Bird is flying\")\n",
    "\n",
    "class Sparrow(Bird):\n",
    "    def fly(self):\n",
    "        print(\"Sparrow is flying\")\n",
    "\n",
    "class Penguin(Bird):\n",
    "    def fly(self):\n",
    "        print(\"Penguin cannot fly\")\n",
    "\n",
    "bird = Bird()\n",
    "bird.fly()  # Output: Bird is flying\n",
    "\n",
    "sparrow = Sparrow()\n",
    "sparrow.fly()  # Output: Sparrow is flying\n",
    "\n",
    "penguin = Penguin()\n",
    "penguin.fly()  # Output: Penguin cannot fly\n"
   ]
  },
  {
   "cell_type": "code",
   "execution_count": 158,
   "id": "7672536d-831b-4a3f-b162-be0ea9ee5a9e",
   "metadata": {},
   "outputs": [
    {
     "name": "stdout",
     "output_type": "stream",
     "text": [
      "1300\n"
     ]
    }
   ],
   "source": [
    "### 5. **Write a program to demonstrate encapsulation by creating a class BankAccount with private attributes balance and methods to deposit, withdraw, and check balance.**\n",
    "\n",
    "\n",
    "class BankAccount:\n",
    "    def __init__(self, balance):\n",
    "        self.__balance = balance\n",
    "\n",
    "    def deposit(self, amount):\n",
    "        self.__balance += amount\n",
    "\n",
    "    def withdraw(self, amount):\n",
    "        if amount <= self.__balance:\n",
    "            self.__balance -= amount\n",
    "\n",
    "    def check_balance(self):\n",
    "        return self.__balance\n",
    "account = BankAccount(1000)\n",
    "account.deposit(500)\n",
    "account.withdraw(200)\n",
    "print(account.check_balance())  # Output: 1300\n"
   ]
  },
  {
   "cell_type": "code",
   "execution_count": 159,
   "id": "db891002-2c09-4bf7-bf46-5df7ae5125ce",
   "metadata": {},
   "outputs": [
    {
     "name": "stdout",
     "output_type": "stream",
     "text": [
      "Guitar is playing\n",
      "Piano is playing\n"
     ]
    }
   ],
   "source": [
    "### 6. **Demonstrate runtime polymorphism using a method play() in a base class Instrument. Derive classes Guitar and Piano that implement their own version of play().**\n",
    "\n",
    "\n",
    "class Instrument:\n",
    "    def play(self):\n",
    "        pass\n",
    "\n",
    "class Guitar(Instrument):\n",
    "    def play(self):\n",
    "        print(\"Guitar is playing\")\n",
    "\n",
    "class Piano(Instrument):\n",
    "    def play(self):\n",
    "        print(\"Piano is playing\")\n",
    "instrument = Instrument()\n",
    "instrument.play()  # Output: None (empty base class method)\n",
    "\n",
    "guitar = Guitar()\n",
    "guitar.play()  # Output: Guitar is playing\n",
    "\n",
    "piano = Piano()\n",
    "piano.play()  # Output: Piano is playing\n",
    "\n"
   ]
  },
  {
   "cell_type": "code",
   "execution_count": 160,
   "id": "7e01ca77-a039-4b6c-ab49-949f381cc78c",
   "metadata": {},
   "outputs": [
    {
     "name": "stdout",
     "output_type": "stream",
     "text": [
      "8\n",
      "6\n"
     ]
    }
   ],
   "source": [
    "### 7. **Create a class MathOperations with a class method add_numbers() to add two numbers and a static method subtract_numbers() to subtract two numbers.**\n",
    "\n",
    "\n",
    "class MathOperations:\n",
    "    @classmethod\n",
    "    def add_numbers(cls, a, b):\n",
    "        return a + b\n",
    "\n",
    "    @staticmethod\n",
    "    def subtract_numbers(a, b):\n",
    "        return a - b\n",
    "print(MathOperations.add_numbers(3, 5))  # Output: 8\n",
    "print(MathOperations.subtract_numbers(10, 4))  # Output: 6\n"
   ]
  },
  {
   "cell_type": "code",
   "execution_count": 161,
   "id": "2c54aea5-7999-4c04-9c14-5ae052a0c30c",
   "metadata": {},
   "outputs": [
    {
     "name": "stdout",
     "output_type": "stream",
     "text": [
      "2\n"
     ]
    }
   ],
   "source": [
    "\n",
    "### 8. **Implement a class Person with a class method to count the total number of persons created.**\n",
    "\n",
    "\n",
    "class Person:\n",
    "    count = 0\n",
    "\n",
    "    def __init__(self, name):\n",
    "        self.name = name\n",
    "        Person.count += 1\n",
    "\n",
    "    @classmethod\n",
    "    def get_count(cls):\n",
    "        return cls.count\n",
    "person1 = Person(\"Alice\")\n",
    "person2 = Person(\"Bob\")\n",
    "print(Person.get_count())  # Output: 2\n",
    "\n"
   ]
  },
  {
   "cell_type": "code",
   "execution_count": 162,
   "id": "aa5bee0d-8ae0-4964-8da3-f359c9f9f22d",
   "metadata": {},
   "outputs": [
    {
     "name": "stdout",
     "output_type": "stream",
     "text": [
      "3/4\n"
     ]
    }
   ],
   "source": [
    "### 9. **Write a class Fraction with attributes numerator and denominator. Override the str method to display the fraction as \"numerator/denominator\".**\n",
    "\n",
    "\n",
    "class Fraction:\n",
    "    def __init__(self, numerator, denominator):\n",
    "        self.numerator = numerator\n",
    "        self.denominator = denominator\n",
    "\n",
    "    def __str__(self):\n",
    "        return f\"{self.numerator}/{self.denominator}\"\n",
    "fraction = Fraction(3, 4)\n",
    "print(fraction)  # Output: 3/4\n",
    "\n"
   ]
  },
  {
   "cell_type": "code",
   "execution_count": 163,
   "id": "12c79f12-6daf-40b8-972c-46e1414d71be",
   "metadata": {},
   "outputs": [
    {
     "name": "stdout",
     "output_type": "stream",
     "text": [
      "4 6\n"
     ]
    }
   ],
   "source": [
    "### 10. **Demonstrate operator overloading by creating a class Vector and overriding the add method to add two vectors.**\n",
    "\n",
    "\n",
    "class Vector:\n",
    "    def __init__(self, x, y):\n",
    "        self.x = x\n",
    "        self.y = y\n",
    "\n",
    "    def __add__(self, other):\n",
    "        return Vector(self.x + other.x, self.y + other.y)\n",
    "        vector1 = Vector(1, 2)\n",
    "        \n",
    "vector1 = Vector(1, 2)\n",
    "vector2 = Vector(3, 4)\n",
    "result = vector1 + vector2\n",
    "print(result.x, result.y)  # Output: 4 6\n",
    "\n"
   ]
  },
  {
   "cell_type": "code",
   "execution_count": 164,
   "id": "721f27bc-df29-47f9-beb3-e9f749e2bc15",
   "metadata": {},
   "outputs": [
    {
     "name": "stdout",
     "output_type": "stream",
     "text": [
      "Hello, my name is Alice and I am 30 years old.\n"
     ]
    }
   ],
   "source": [
    "### 11. **Create a class Person with attributes name and age. Add a method greet() that prints \"Hello, my name is {name} and I am {age} years old.\"**\n",
    "\n",
    "\n",
    "class Person:\n",
    "    def __init__(self, name, age):\n",
    "        self.name = name\n",
    "        self.age = age\n",
    "\n",
    "    def greet(self):\n",
    "        print(f\"Hello, my name is {self.name} and I am {self.age} years old.\")\n",
    "person = Person(\"Alice\", 30)\n",
    "person.greet()  # Output: Hello, my name is Alice and I am 30 years old.\n",
    "\n"
   ]
  },
  {
   "cell_type": "code",
   "execution_count": 165,
   "id": "3d373c1d-7d44-4819-b9cc-7a1a4936f162",
   "metadata": {},
   "outputs": [
    {
     "name": "stdout",
     "output_type": "stream",
     "text": [
      "86.25\n"
     ]
    }
   ],
   "source": [
    "\n",
    "### 12. **Implement a class Student with attributes name and grades. Create a method average_grade() to compute the average of the grades.**\n",
    "\n",
    "\n",
    "class Student:\n",
    "    def __init__(self, name, grades):\n",
    "        self.name = name\n",
    "        self.grades = grades\n",
    "\n",
    "    def average_grade(self):\n",
    "        return sum(self.grades) / len(self.grades)\n",
    "\n",
    "student = Student(\"John\", [85, 90, 78, 92])\n",
    "print(student.average_grade())  # Output: 86.25\n"
   ]
  },
  {
   "cell_type": "code",
   "execution_count": 166,
   "id": "b70d48a4-70b6-43b2-9664-265eddd76cdf",
   "metadata": {},
   "outputs": [
    {
     "name": "stdout",
     "output_type": "stream",
     "text": [
      "24\n"
     ]
    }
   ],
   "source": [
    "### 13. **Create a class Rectangle with methods set_dimensions() to set the dimensions and area() to calculate the area.**\n",
    "\n",
    "\n",
    "class Rectangle:\n",
    "    def __init__(self):\n",
    "        self.length = 0\n",
    "        self.width = 0\n",
    "\n",
    "    def set_dimensions(self, length, width):\n",
    "        self.length = length\n",
    "        self.width = width\n",
    "\n",
    "    def area(self):\n",
    "        return self.length * self.width\n",
    "\n",
    "rectangle = Rectangle()\n",
    "rectangle.set_dimensions(4, 6)\n",
    "print(rectangle.area())  # Output: 24\n"
   ]
  },
  {
   "cell_type": "code",
   "execution_count": 167,
   "id": "dd8faadd-2a11-4a25-953a-1644680fa335",
   "metadata": {},
   "outputs": [
    {
     "name": "stdout",
     "output_type": "stream",
     "text": [
      "800\n",
      "900\n"
     ]
    }
   ],
   "source": [
    "### 14. **Create a class Employee with a method calculate_salary() that computes the salary based on hours worked and hourly rate. Create a derived class Manager that adds a bonus to the salary.**\n",
    "\n",
    "\n",
    "class Employee:\n",
    "    def calculate_salary(self, hours, rate):\n",
    "        return hours * rate\n",
    "\n",
    "class Manager(Employee):\n",
    "    def calculate_salary(self, hours, rate, bonus):\n",
    "        return super().calculate_salary(hours, rate) + bonus\n",
    "employee = Employee()\n",
    "print(employee.calculate_salary(40, 20))  # Output: 800 (40 hours * $20/hour)\n",
    "\n",
    "manager = Manager()\n",
    "print(manager.calculate_salary(40, 20, 100))  # Output: 900 (800 + $100 bonus)\n",
    "\n"
   ]
  },
  {
   "cell_type": "code",
   "execution_count": 168,
   "id": "21df270b-55c5-4a42-bfac-c2e09e81add6",
   "metadata": {},
   "outputs": [
    {
     "name": "stdout",
     "output_type": "stream",
     "text": [
      "3000\n"
     ]
    }
   ],
   "source": [
    "\n",
    "### 15. **Create a class Product with attributes name, price, and quantity. Implement a method total_price() that calculates the total price of the product.**\n",
    "\n",
    "\n",
    "class Product:\n",
    "    def __init__(self, name, price, quantity):\n",
    "        self.name = name\n",
    "        self.price = price\n",
    "        self.quantity = quantity\n",
    "\n",
    "    def total_price(self):\n",
    "        return self.price * self.quantity\n",
    "product = Product(\"Laptop\", 1000, 3)\n",
    "print(product.total_price())  # Output: 3000\n",
    "\n"
   ]
  },
  {
   "cell_type": "code",
   "execution_count": 169,
   "id": "724ed489-dcc5-47d0-8143-607849def7d2",
   "metadata": {},
   "outputs": [
    {
     "name": "stdout",
     "output_type": "stream",
     "text": [
      "Moo\n",
      "Baa\n"
     ]
    }
   ],
   "source": [
    "\n",
    "### 16. **Create a class Animal with an abstract method sound(). Create two derived classes Cow and Sheep that implement the sound() method.**\n",
    "\n",
    "\n",
    "from abc import ABC, abstractmethod\n",
    "\n",
    "class Animal(ABC):\n",
    "    @abstractmethod\n",
    "    def sound(self):\n",
    "        pass\n",
    "\n",
    "class Cow(Animal):\n",
    "    def sound(self):\n",
    "        print(\"Moo\")\n",
    "\n",
    "class Sheep(Animal):\n",
    "    def sound(self):\n",
    "        print(\"Baa\")\n",
    "cow = Cow()\n",
    "cow.sound()  # Output: Moo\n",
    "\n",
    "sheep = Sheep()\n",
    "sheep.sound()  # Output: Baa\n"
   ]
  },
  {
   "cell_type": "code",
   "execution_count": 170,
   "id": "31a185c9-85ad-4a43-975c-521c778f6fdb",
   "metadata": {},
   "outputs": [
    {
     "name": "stdout",
     "output_type": "stream",
     "text": [
      "Title: 1984, Author: George Orwell, Year: 1949\n"
     ]
    }
   ],
   "source": [
    "### 17. **Create a class Book with attributes title, author, and year_published. Add a method get_book_info() that returns a formatted string with the book's details.**\n",
    "\n",
    "\n",
    "class Book:\n",
    "    def __init__(self, title, author, year_published):\n",
    "        self.title = title\n",
    "        self.author = author\n",
    "        self.year_published = year_published\n",
    "\n",
    "    def get_book_info(self):\n",
    "        return f\"Title: {self.title}, Author: {self.author}, Year: {self.year_published}\"\n",
    "book = Book(\"1984\", \"George Orwell\", 1949)\n",
    "print(book.get_book_info())  # Output: Title: 1984, Author: George Orwell, Year: 1949\n"
   ]
  },
  {
   "cell_type": "code",
   "execution_count": 171,
   "id": "10b7f36f-c4e6-4c07-b9a0-d57ba61d6727",
   "metadata": {},
   "outputs": [
    {
     "name": "stdout",
     "output_type": "stream",
     "text": [
      "1234 Luxury St\n",
      "10\n"
     ]
    }
   ],
   "source": [
    "### 18. **Create a class House with attributes address and price. Create a derived class Mansion that adds an attribute number_of_rooms.**\n",
    "\n",
    "\n",
    "class House:\n",
    "    def __init__(self, address, price):\n",
    "        self.address = address\n",
    "        self.price = price\n",
    "\n",
    "class Mansion(House):\n",
    "    def __init__(self, address, price, number_of_rooms):\n",
    "        super().__init__(address, price)\n",
    "        self.number_of_rooms = number_of_rooms\n",
    "mansion = Mansion(\"1234 Luxury St\", 5000000, 10)\n",
    "print(mansion.address)  # Output: 1234 Luxury St\n",
    "print(mansion.number_of_rooms)  # Output: 10\n",
    "\n"
   ]
  },
  {
   "cell_type": "code",
   "execution_count": null,
   "id": "03888cb6-87c6-4cf8-aacc-30535451c1e2",
   "metadata": {},
   "outputs": [],
   "source": []
  }
 ],
 "metadata": {
  "kernelspec": {
   "display_name": "Python 3 (ipykernel)",
   "language": "python",
   "name": "python3"
  },
  "language_info": {
   "codemirror_mode": {
    "name": "ipython",
    "version": 3
   },
   "file_extension": ".py",
   "mimetype": "text/x-python",
   "name": "python",
   "nbconvert_exporter": "python",
   "pygments_lexer": "ipython3",
   "version": "3.12.3"
  }
 },
 "nbformat": 4,
 "nbformat_minor": 5
}
